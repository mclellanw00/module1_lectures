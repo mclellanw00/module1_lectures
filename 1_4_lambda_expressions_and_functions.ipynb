{
  "cells": [
    {
      "cell_type": "markdown",
      "metadata": {
        "id": "view-in-github",
        "colab_type": "text"
      },
      "source": [
        "<a href=\"https://colab.research.google.com/github/mclellanw00/module1_lectures/blob/main/1_4_lambda_expressions_and_functions.ipynb\" target=\"_parent\"><img src=\"https://colab.research.google.com/assets/colab-badge.svg\" alt=\"Open In Colab\"/></a>"
      ]
    },
    {
      "cell_type": "markdown",
      "metadata": {
        "nbpresent": {
          "id": "72b0ede6-af2b-41e9-81af-16c345e658d3"
        },
        "id": "vCXX_v6xkwK3"
      },
      "source": [
        "# Lambda Expressions and Functions\n",
        "\n",
        "## Objectives\n",
        "\n",
        "1. Use variables to make expressions more readable\n",
        "2. Introduce the `lambda` expression for reusing expressions\n",
        "3. Writing more complicated functions with the `def` statement"
      ]
    },
    {
      "cell_type": "markdown",
      "metadata": {
        "nbpresent": {
          "id": "1a11188f-9efb-4909-b63f-fa5d6ed1628a"
        },
        "id": "nQnEYZgikwK5"
      },
      "source": [
        "## The `lambda` expression\n",
        "\n",
        "* Allows reuse of expressions\n",
        "* Variables become **Parameters**\n",
        "    * insert values later"
      ]
    },
    {
      "cell_type": "markdown",
      "metadata": {
        "nbpresent": {
          "id": "a59a0a0b-3a93-41e6-b1bd-b9c856d68106"
        },
        "id": "vzx8jBpzkwK5"
      },
      "source": [
        "## The `lambda` syntax\n",
        "\n",
        "<img src=\"https://github.com/mclellanw00/module1_lectures/blob/main/img/lambda_syntax.png?raw=1\"/>"
      ]
    },
    {
      "cell_type": "code",
      "execution_count": 1,
      "metadata": {
        "nbpresent": {
          "id": "12154f73-b113-47f0-a659-899c3c2e9cda"
        },
        "id": "7EvRyoTikwK5"
      },
      "outputs": [],
      "source": [
        "f = lambda x: x**2"
      ]
    },
    {
      "cell_type": "code",
      "execution_count": 2,
      "metadata": {
        "nbpresent": {
          "id": "12154f73-b113-47f0-a659-899c3c2e9cda"
        },
        "id": "QAfs4h-VkwK6",
        "outputId": "5b3195ea-f4f3-4edc-8f62-f3248c36f3ed",
        "colab": {
          "base_uri": "https://localhost:8080/"
        }
      },
      "outputs": [
        {
          "output_type": "execute_result",
          "data": {
            "text/plain": [
              "4"
            ]
          },
          "metadata": {},
          "execution_count": 2
        }
      ],
      "source": [
        "f = lambda x: x**2\n",
        "f(2)"
      ]
    },
    {
      "cell_type": "markdown",
      "metadata": {
        "id": "OJ4OzQ6HkwK8"
      },
      "source": [
        "## Evaluating `lambda` expressions\n",
        "\n",
        "<img src=\"https://github.com/mclellanw00/module1_lectures/blob/main/img/lambda_evaluation.png?raw=1\" width=400/>"
      ]
    },
    {
      "cell_type": "markdown",
      "metadata": {
        "nbpresent": {
          "id": "a59a0a0b-3a93-41e6-b1bd-b9c856d68106"
        },
        "id": "0p83jXkQkwK8"
      },
      "source": [
        "## The `lambda` expression\n",
        "\n",
        "* The *type* of a `lambda` is the type `function`\n",
        "* The *value* of a `lambda` expression is actual function\n",
        "* Remember\n",
        "    * `lambda` MAKES the function\n",
        "    * Use function call to execute the function"
      ]
    },
    {
      "cell_type": "code",
      "execution_count": 3,
      "metadata": {
        "id": "dxcj7pvwkwK8",
        "outputId": "ccc33608-ed25-4204-8206-3d9670d1543e",
        "colab": {
          "base_uri": "https://localhost:8080/"
        }
      },
      "outputs": [
        {
          "output_type": "execute_result",
          "data": {
            "text/plain": [
              "<function __main__.<lambda>(x)>"
            ]
          },
          "metadata": {},
          "execution_count": 3
        }
      ],
      "source": [
        "f"
      ]
    },
    {
      "cell_type": "code",
      "execution_count": 4,
      "metadata": {
        "nbpresent": {
          "id": "12154f73-b113-47f0-a659-899c3c2e9cda"
        },
        "id": "ccKJpKfEkwK9",
        "outputId": "6101ab63-4fad-419b-cd85-f9829448addc",
        "colab": {
          "base_uri": "https://localhost:8080/"
        }
      },
      "outputs": [
        {
          "output_type": "execute_result",
          "data": {
            "text/plain": [
              "function"
            ]
          },
          "metadata": {},
          "execution_count": 4
        }
      ],
      "source": [
        "type(f)"
      ]
    },
    {
      "cell_type": "markdown",
      "metadata": {
        "id": "j6HTJa_-kwK9"
      },
      "source": [
        "## Calling a lambda expression in the usual way"
      ]
    },
    {
      "cell_type": "code",
      "execution_count": 5,
      "metadata": {
        "nbpresent": {
          "id": "eb41b143-7ceb-475d-83e3-941bd5866cb4"
        },
        "id": "zbbiE169kwK9",
        "outputId": "4624ee83-ceed-4ef3-a360-7a59a457cdb1",
        "colab": {
          "base_uri": "https://localhost:8080/"
        }
      },
      "outputs": [
        {
          "output_type": "execute_result",
          "data": {
            "text/plain": [
              "9"
            ]
          },
          "metadata": {},
          "execution_count": 5
        }
      ],
      "source": [
        "f(3)"
      ]
    },
    {
      "cell_type": "markdown",
      "metadata": {
        "id": "Evv1OAhWkwK-"
      },
      "source": [
        "<font color=\"red\"><h1>Exercise 1</h1></font>\n",
        "\n",
        "Write a function using a `lambda` expression that computes the area of a circle with radius `r`.\n"
      ]
    },
    {
      "cell_type": "code",
      "execution_count": 11,
      "metadata": {
        "id": "5BCCWZpRkwK-"
      },
      "outputs": [],
      "source": [
        "import math as m\n",
        "area = lambda r: m.pi*r**2"
      ]
    },
    {
      "cell_type": "code",
      "source": [
        "area(2)"
      ],
      "metadata": {
        "id": "iNwbeSbYnBjS",
        "outputId": "2dca348f-0732-45fd-c8ce-6ae495ef064e",
        "colab": {
          "base_uri": "https://localhost:8080/"
        }
      },
      "execution_count": 12,
      "outputs": [
        {
          "output_type": "execute_result",
          "data": {
            "text/plain": [
              "12.566370614359172"
            ]
          },
          "metadata": {},
          "execution_count": 12
        }
      ]
    },
    {
      "cell_type": "markdown",
      "metadata": {
        "id": "e5Nvh52okwK-"
      },
      "source": [
        "## Lambdas with many arguments"
      ]
    },
    {
      "cell_type": "code",
      "execution_count": 13,
      "metadata": {
        "nbpresent": {
          "id": "2f7d8217-77e6-4c57-802a-ac417af24d61"
        },
        "id": "SwVWL190kwK-",
        "outputId": "980d4738-d893-4cf9-dbf5-762296cde7b8",
        "colab": {
          "base_uri": "https://localhost:8080/"
        }
      },
      "outputs": [
        {
          "output_type": "execute_result",
          "data": {
            "text/plain": [
              "16"
            ]
          },
          "metadata": {},
          "execution_count": 13
        }
      ],
      "source": [
        "g = lambda x, y : x**y\n",
        "g(2,4)"
      ]
    },
    {
      "cell_type": "markdown",
      "metadata": {
        "id": "eLa9VAx_kwK_"
      },
      "source": [
        "## Evaluating a 2 argument `lambda`\n",
        "\n",
        "<img src=\"https://github.com/mclellanw00/module1_lectures/blob/main/img/lambda_eval_2arg_1.png?raw=1\" width=600/>"
      ]
    },
    {
      "cell_type": "markdown",
      "metadata": {
        "id": "KxVbXikXkwK_"
      },
      "source": [
        "## Evaluating a 2 argument `lambda`\n",
        "\n",
        "<img src=\"https://github.com/mclellanw00/module1_lectures/blob/main/img/lambda_eval_2arg_2.png?raw=1\" width=600/>"
      ]
    },
    {
      "cell_type": "markdown",
      "metadata": {
        "id": "m6LOfJxfkwK_"
      },
      "source": [
        "## Evaluating a 2 argument `lambda`\n",
        "\n",
        "<img src=\"https://github.com/mclellanw00/module1_lectures/blob/main/img/lambda_eval_2arg_3.png?raw=1\" width=600/>"
      ]
    },
    {
      "cell_type": "markdown",
      "metadata": {
        "id": "L-ctQDPekwLA"
      },
      "source": [
        ""
      ]
    },
    {
      "cell_type": "markdown",
      "metadata": {
        "id": "EUh8hAAxkwLA"
      },
      "source": [
        "<font color=\"red\"><h1>Exercise 2</h1></font>\n",
        "\n",
        "Use a similar process to evaluate `h(1,2,3)` when\n",
        "\n",
        "```\n",
        "h = lambda x, y, z: 2*x*y+ y**2/z\n",
        "```"
      ]
    },
    {
      "cell_type": "code",
      "execution_count": null,
      "metadata": {
        "id": "8ab6cIqgkwLA",
        "outputId": "2f73c4b0-51d9-4efb-ce6f-922c698181e8"
      },
      "outputs": [
        {
          "data": {
            "text/plain": [
              "5.333333333333333"
            ]
          },
          "execution_count": 26,
          "metadata": {},
          "output_type": "execute_result"
        }
      ],
      "source": [
        "h = lambda x, y, z: 2*x*y+ y**2/z\n",
        "h(1, 2, 3)"
      ]
    },
    {
      "cell_type": "code",
      "execution_count": 19,
      "metadata": {
        "id": "p1n46SE-kwLB"
      },
      "outputs": [],
      "source": [
        "h = 2*1*2+2**2/3"
      ]
    },
    {
      "cell_type": "markdown",
      "metadata": {
        "id": "DW6a727tkwLB"
      },
      "source": [
        "<font color=\"red\"><h1>Exercise 3</h1></font>\n",
        "\n",
        "The function `random` from the `random` module can be used to generate numbers between 0 and 1 at random. We want to return numbers between $a$ and $b$ at random, which can be accomplished using the formula $V = (b - a)*random() + a$.\n",
        "\n",
        "Write a lambda function that takes `a` and `b` as arguments are returns a number between `a` and `b` at random."
      ]
    },
    {
      "cell_type": "code",
      "execution_count": 14,
      "metadata": {
        "id": "QYqG7b38kwLB"
      },
      "outputs": [],
      "source": [
        "from random import random"
      ]
    },
    {
      "cell_type": "code",
      "source": [
        "help(random)"
      ],
      "metadata": {
        "id": "WQWAy7zkoYHM",
        "outputId": "8cd83dbd-eed4-43c5-a525-a77795dfc9f2",
        "colab": {
          "base_uri": "https://localhost:8080/"
        }
      },
      "execution_count": 15,
      "outputs": [
        {
          "output_type": "stream",
          "name": "stdout",
          "text": [
            "Help on built-in function random:\n",
            "\n",
            "random(...) method of random.Random instance\n",
            "    random() -> x in the interval [0, 1).\n",
            "\n"
          ]
        }
      ]
    },
    {
      "cell_type": "code",
      "source": [
        "random()"
      ],
      "metadata": {
        "id": "zx9JQbxuosWs",
        "outputId": "1464dd29-ed33-442c-a32f-661873d46b6e",
        "colab": {
          "base_uri": "https://localhost:8080/"
        }
      },
      "execution_count": 16,
      "outputs": [
        {
          "output_type": "execute_result",
          "data": {
            "text/plain": [
              "0.9405762575320329"
            ]
          },
          "metadata": {},
          "execution_count": 16
        }
      ]
    },
    {
      "cell_type": "code",
      "source": [
        "v = lambda a, b: (b-a)*random()+a"
      ],
      "metadata": {
        "id": "MmkV7PZmo5Ya"
      },
      "execution_count": 17,
      "outputs": []
    },
    {
      "cell_type": "code",
      "source": [
        "v(3,4)"
      ],
      "metadata": {
        "id": "ociQHCWEpPNn",
        "outputId": "67f716f7-1de9-43b7-8939-0a264d7f6633",
        "colab": {
          "base_uri": "https://localhost:8080/"
        }
      },
      "execution_count": 18,
      "outputs": [
        {
          "output_type": "execute_result",
          "data": {
            "text/plain": [
              "3.0193854013883725"
            ]
          },
          "metadata": {},
          "execution_count": 18
        }
      ]
    },
    {
      "cell_type": "code",
      "source": [
        ""
      ],
      "metadata": {
        "id": "xSJNvzQYpSYW"
      },
      "execution_count": null,
      "outputs": []
    }
  ],
  "metadata": {
    "anaconda-cloud": {},
    "kernelspec": {
      "display_name": "Python 3",
      "language": "python",
      "name": "python3"
    },
    "language_info": {
      "codemirror_mode": {
        "name": "ipython",
        "version": 3
      },
      "file_extension": ".py",
      "mimetype": "text/x-python",
      "name": "python",
      "nbconvert_exporter": "python",
      "pygments_lexer": "ipython3",
      "version": "3.7.2"
    },
    "nbpresent": {
      "slides": {
        "d8cfa8b7-18e5-4d2f-8e92-8164c8bfad3b": {
          "id": "d8cfa8b7-18e5-4d2f-8e92-8164c8bfad3b",
          "prev": null,
          "regions": {
            "81231d63-4899-45f2-b382-fabf4f762896": {
              "attrs": {
                "height": 0.8,
                "width": 0.45,
                "x": 0.5,
                "y": 0.1
              },
              "id": "81231d63-4899-45f2-b382-fabf4f762896"
            },
            "b40d103d-8d7f-44de-8fca-19b2f9861cdd": {
              "attrs": {
                "height": 0.8,
                "width": 0.45,
                "x": 0.05,
                "y": 0.1
              },
              "id": "b40d103d-8d7f-44de-8fca-19b2f9861cdd"
            }
          }
        }
      },
      "themes": {}
    },
    "colab": {
      "provenance": [],
      "include_colab_link": true
    }
  },
  "nbformat": 4,
  "nbformat_minor": 0
}