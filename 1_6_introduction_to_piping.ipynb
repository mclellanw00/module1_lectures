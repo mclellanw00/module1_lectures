{
  "cells": [
    {
      "cell_type": "markdown",
      "metadata": {
        "id": "view-in-github",
        "colab_type": "text"
      },
      "source": [
        "<a href=\"https://colab.research.google.com/github/mclellanw00/module1_lectures/blob/main/1_6_introduction_to_piping.ipynb\" target=\"_parent\"><img src=\"https://colab.research.google.com/assets/colab-badge.svg\" alt=\"Open In Colab\"/></a>"
      ]
    },
    {
      "cell_type": "code",
      "execution_count": null,
      "metadata": {
        "id": "OUG7KRNMfPUB"
      },
      "outputs": [],
      "source": [
        "import rpy2\n",
        "%load_ext rpy2.ipython"
      ]
    },
    {
      "cell_type": "code",
      "execution_count": null,
      "metadata": {
        "colab": {
          "base_uri": "https://localhost:8080/"
        },
        "id": "GAhHHI_wfPUC",
        "outputId": "13365b31-83d8-4655-f034-ff0f45741e7f"
      },
      "outputs": [
        {
          "output_type": "stream",
          "name": "stderr",
          "text": [
            "WARNING:rpy2.rinterface_lib.callbacks:R[write to console]: \n",
            "Attaching package: ‘dplyr’\n",
            "\n",
            "\n",
            "WARNING:rpy2.rinterface_lib.callbacks:R[write to console]: The following objects are masked from ‘package:stats’:\n",
            "\n",
            "    filter, lag\n",
            "\n",
            "\n",
            "WARNING:rpy2.rinterface_lib.callbacks:R[write to console]: The following objects are masked from ‘package:base’:\n",
            "\n",
            "    intersect, setdiff, setequal, union\n",
            "\n",
            "\n"
          ]
        }
      ],
      "source": [
        "%%R\n",
        "library(dplyr)"
      ]
    },
    {
      "cell_type": "markdown",
      "metadata": {
        "id": "-dx_n-UMfPUD"
      },
      "source": [
        "# Introduction to piping"
      ]
    },
    {
      "cell_type": "markdown",
      "metadata": {
        "id": "iYnhpLRifPUE"
      },
      "source": [
        "## Review -- Piping with `dplyr`\n",
        "\n",
        "You might be familiar with piping in R using the `%>%` operator from `dplyr`"
      ]
    },
    {
      "cell_type": "code",
      "execution_count": null,
      "metadata": {
        "colab": {
          "base_uri": "https://localhost:8080/"
        },
        "id": "fkmkFWI_fPUE",
        "outputId": "89cac782-28ef-4a52-e379-e5644c93297d"
      },
      "outputs": [
        {
          "output_type": "stream",
          "name": "stdout",
          "text": [
            "[1] \"1.77\"\n"
          ]
        }
      ],
      "source": [
        "%%R\n",
        "pi %>% \n",
        "sqrt %>% \n",
        "round(2) %>% \n",
        "as.character"
      ]
    },
    {
      "cell_type": "markdown",
      "metadata": {
        "id": "KnoKHompfPUE"
      },
      "source": [
        "## Making `pipeable` functions using `composable`\n",
        "\n",
        "To get functions to be pipeable in Python, we need to wrap them in `pipeable` from the `composable` module"
      ]
    },
    {
      "cell_type": "code",
      "execution_count": 5,
      "metadata": {
        "colab": {
          "base_uri": "https://localhost:8080/"
        },
        "id": "UGdpNTaQfPUE",
        "outputId": "59c9c064-2695-4364-cf20-4bb9eea67aa0"
      },
      "outputs": [
        {
          "output_type": "stream",
          "name": "stdout",
          "text": [
            "Looking in indexes: https://pypi.org/simple, https://us-python.pkg.dev/colab-wheels/public/simple/\n",
            "Collecting composable\n",
            "  Downloading composable-0.2.5-py3-none-any.whl (7.3 kB)\n",
            "Collecting toolz<0.12.0,>=0.11.1\n",
            "  Downloading toolz-0.11.2-py3-none-any.whl (55 kB)\n",
            "\u001b[K     |████████████████████████████████| 55 kB 3.6 MB/s \n",
            "\u001b[?25hCollecting python-forge<19.0,>=18.6\n",
            "  Downloading python_forge-18.6.0-py35-none-any.whl (31 kB)\n",
            "Installing collected packages: toolz, python-forge, composable\n",
            "  Attempting uninstall: toolz\n",
            "    Found existing installation: toolz 0.12.0\n",
            "    Uninstalling toolz-0.12.0:\n",
            "      Successfully uninstalled toolz-0.12.0\n",
            "Successfully installed composable-0.2.5 python-forge-18.6.0 toolz-0.11.2\n"
          ]
        }
      ],
      "source": [
        "!pip install composable # Install if missing or in colab"
      ]
    },
    {
      "cell_type": "code",
      "execution_count": 6,
      "metadata": {
        "id": "2vydDANcfPUF"
      },
      "outputs": [],
      "source": [
        "from composable import pipeable"
      ]
    },
    {
      "cell_type": "markdown",
      "metadata": {
        "id": "kp6MMmw8fPUF"
      },
      "source": [
        "## Making some pipeable functions\n",
        "\n",
        "Before I can recreate the R example, I need to make some pipeable functions."
      ]
    },
    {
      "cell_type": "markdown",
      "metadata": {
        "id": "fJZjkVhEfPUF"
      },
      "source": [
        "## Making a pipeable `sqrt`\n",
        "\n",
        "To make an existing function pipeable, I need to wrap or *decorate* it with `pipeable`."
      ]
    },
    {
      "cell_type": "code",
      "execution_count": 7,
      "metadata": {
        "id": "ZsnKU1CSfPUF"
      },
      "outputs": [],
      "source": [
        "import math as m\n",
        "sqrt = pipeable(m.sqrt)"
      ]
    },
    {
      "cell_type": "code",
      "execution_count": null,
      "metadata": {
        "colab": {
          "base_uri": "https://localhost:8080/"
        },
        "id": "Y7TTZugrfPUF",
        "outputId": "1123d358-20cd-4cf2-af88-55d4b00c255e"
      },
      "outputs": [
        {
          "output_type": "execute_result",
          "data": {
            "text/plain": [
              "1.4142135623730951"
            ]
          },
          "metadata": {},
          "execution_count": 9
        }
      ],
      "source": [
        "2 >> sqrt"
      ]
    },
    {
      "cell_type": "markdown",
      "metadata": {
        "id": "0hgX6WQYfPUG"
      },
      "source": [
        "## Some common functions are not actually functions\n",
        "\n",
        "Some Python \"functions\" are not actually functions, but type constructors.  Examples include `str`, `float`, `int`, `list`, etc.  This also includes the most powerful type constructor of them all, `type`"
      ]
    },
    {
      "cell_type": "code",
      "execution_count": null,
      "metadata": {
        "colab": {
          "base_uri": "https://localhost:8080/"
        },
        "id": "Qld2dPNkfPUG",
        "outputId": "56cffbc3-26cb-45ce-c23c-54f4ff62bdcb"
      },
      "outputs": [
        {
          "output_type": "execute_result",
          "data": {
            "text/plain": [
              "type"
            ]
          },
          "metadata": {},
          "execution_count": 14
        }
      ],
      "source": [
        "type(str)"
      ]
    },
    {
      "cell_type": "code",
      "execution_count": null,
      "metadata": {
        "colab": {
          "base_uri": "https://localhost:8080/"
        },
        "id": "vLgiRnUGfPUG",
        "outputId": "0dac3844-4436-46ad-91cd-745e612589ab"
      },
      "outputs": [
        {
          "output_type": "execute_result",
          "data": {
            "text/plain": [
              "1.8708286933869707"
            ]
          },
          "metadata": {},
          "execution_count": 15
        }
      ],
      "source": [
        "wont_always_work = pipeable(float)\n",
        "3.5 >> sqrt >> wont_always_work"
      ]
    },
    {
      "cell_type": "markdown",
      "metadata": {
        "id": "olPYBqb9fPUG"
      },
      "source": [
        "## Use a `lambda` to create a pipeable type conversion function\n",
        "\n",
        "To be safe, we need to wrap type constructors in a lambda, THEN `pipeable`"
      ]
    },
    {
      "cell_type": "code",
      "execution_count": null,
      "metadata": {
        "id": "quP9GTDkfPUH"
      },
      "outputs": [],
      "source": [
        "toStr = pipeable(lambda n: str(n))"
      ]
    },
    {
      "cell_type": "code",
      "execution_count": null,
      "metadata": {
        "colab": {
          "base_uri": "https://localhost:8080/",
          "height": 36
        },
        "id": "wN0zP4LqfPUH",
        "outputId": "6046758e-8de8-4056-cca4-5d30b466bbbc"
      },
      "outputs": [
        {
          "output_type": "execute_result",
          "data": {
            "text/plain": [
              "'3.5'"
            ],
            "application/vnd.google.colaboratory.intrinsic+json": {
              "type": "string"
            }
          },
          "metadata": {},
          "execution_count": 17
        }
      ],
      "source": [
        "3.5 >> toStr"
      ]
    },
    {
      "cell_type": "markdown",
      "metadata": {
        "id": "NU5D5DeJfPUH"
      },
      "source": [
        "## Piping and multiple arguments\n",
        "\n",
        "Piped in data is inserted **on the right**"
      ]
    },
    {
      "cell_type": "code",
      "execution_count": null,
      "metadata": {
        "id": "FX1It4vvfPUH"
      },
      "outputs": [],
      "source": [
        "test = pipeable(lambda a, b: f\"first:{a} second:{b}\")"
      ]
    },
    {
      "cell_type": "code",
      "execution_count": null,
      "metadata": {
        "colab": {
          "base_uri": "https://localhost:8080/",
          "height": 36
        },
        "id": "rwykGFYxfPUH",
        "outputId": "46354d11-8d64-4ce9-daa4-cfb01f33b7fd"
      },
      "outputs": [
        {
          "output_type": "execute_result",
          "data": {
            "text/plain": [
              "'first:1 second:2'"
            ],
            "application/vnd.google.colaboratory.intrinsic+json": {
              "type": "string"
            }
          },
          "metadata": {},
          "execution_count": 19
        }
      ],
      "source": [
        "test(1,2)"
      ]
    },
    {
      "cell_type": "code",
      "execution_count": null,
      "metadata": {
        "colab": {
          "base_uri": "https://localhost:8080/",
          "height": 36
        },
        "id": "xKwX26bufPUI",
        "outputId": "2b947428-8d89-43ac-a951-7c496fe340bc"
      },
      "outputs": [
        {
          "output_type": "execute_result",
          "data": {
            "text/plain": [
              "'first:2 second:1'"
            ],
            "application/vnd.google.colaboratory.intrinsic+json": {
              "type": "string"
            }
          },
          "metadata": {},
          "execution_count": 20
        }
      ],
      "source": [
        "1 >> test(2)"
      ]
    },
    {
      "cell_type": "code",
      "execution_count": null,
      "metadata": {
        "colab": {
          "base_uri": "https://localhost:8080/",
          "height": 36
        },
        "id": "BUgVzleYfPUI",
        "outputId": "86020d1d-e042-4ead-9fa4-4eb42fb6fe00"
      },
      "outputs": [
        {
          "output_type": "execute_result",
          "data": {
            "text/plain": [
              "'first:1 second:2'"
            ],
            "application/vnd.google.colaboratory.intrinsic+json": {
              "type": "string"
            }
          },
          "metadata": {},
          "execution_count": 21
        }
      ],
      "source": [
        "2 >> test(1)"
      ]
    },
    {
      "cell_type": "markdown",
      "metadata": {
        "id": "Kh88VCRofPUI"
      },
      "source": [
        "## Rearranging argument order\n",
        "\n",
        "The default `round` function uses `round(number, digits)`"
      ]
    },
    {
      "cell_type": "code",
      "execution_count": null,
      "metadata": {
        "colab": {
          "base_uri": "https://localhost:8080/"
        },
        "id": "gzs93HIUfPUJ",
        "outputId": "a5fd7b06-1505-4c1d-c2dd-12ac991a8e66"
      },
      "outputs": [
        {
          "output_type": "execute_result",
          "data": {
            "text/plain": [
              "3.14"
            ]
          },
          "metadata": {},
          "execution_count": 22
        }
      ],
      "source": [
        "round(m.pi, 2)"
      ]
    },
    {
      "cell_type": "markdown",
      "metadata": {
        "id": "m2VOstvcfPUJ"
      },
      "source": [
        "For piping, it is more convenient to switch the order."
      ]
    },
    {
      "cell_type": "code",
      "execution_count": null,
      "metadata": {
        "id": "dZeU9cVkfPUJ"
      },
      "outputs": [],
      "source": [
        "rnd = pipeable(lambda d, n: round(n, d))"
      ]
    },
    {
      "cell_type": "code",
      "execution_count": null,
      "metadata": {
        "colab": {
          "base_uri": "https://localhost:8080/"
        },
        "id": "oaxFDiv5fPUJ",
        "outputId": "fc0d1f49-0b4d-42f3-eec8-d4cd4ed2024c"
      },
      "outputs": [
        {
          "output_type": "execute_result",
          "data": {
            "text/plain": [
              "3.14"
            ]
          },
          "metadata": {},
          "execution_count": 24
        }
      ],
      "source": [
        "m.pi >> rnd(2) "
      ]
    },
    {
      "cell_type": "markdown",
      "metadata": {
        "id": "rgnnC7rcfPUJ"
      },
      "source": [
        "## Recreating the R example"
      ]
    },
    {
      "cell_type": "code",
      "execution_count": null,
      "metadata": {
        "colab": {
          "base_uri": "https://localhost:8080/",
          "height": 36
        },
        "id": "kR5u706_fPUJ",
        "outputId": "bddc7567-b80f-4eed-d3ff-1edc853ab7e1"
      },
      "outputs": [
        {
          "output_type": "execute_result",
          "data": {
            "text/plain": [
              "'1.77'"
            ],
            "application/vnd.google.colaboratory.intrinsic+json": {
              "type": "string"
            }
          },
          "metadata": {},
          "execution_count": 25
        }
      ],
      "source": [
        "m.pi >> sqrt >> rnd(2) >> toStr"
      ]
    },
    {
      "cell_type": "code",
      "execution_count": null,
      "metadata": {
        "scrolled": true,
        "id": "O02KhPO_fPUK",
        "outputId": "b0d60629-f8b3-4269-cdee-bb4f71fff49c"
      },
      "outputs": [
        {
          "ename": "SyntaxError",
          "evalue": "invalid syntax (<ipython-input-62-f682fcc14d43>, line 1)",
          "output_type": "error",
          "traceback": [
            "\u001b[0;36m  File \u001b[0;32m\"<ipython-input-62-f682fcc14d43>\"\u001b[0;36m, line \u001b[0;32m1\u001b[0m\n\u001b[0;31m    m.pi >>\u001b[0m\n\u001b[0m            ^\u001b[0m\n\u001b[0;31mSyntaxError\u001b[0m\u001b[0;31m:\u001b[0m invalid syntax\n"
          ]
        }
      ],
      "source": [
        "m.pi >> \n",
        "sqrt >> \n",
        "rnd(2) >> \n",
        "toStr"
      ]
    },
    {
      "cell_type": "markdown",
      "metadata": {
        "id": "eKHhPJOrfPUK"
      },
      "source": [
        "## Hint 1: Wrap multi-line piped expressions in parentheses"
      ]
    },
    {
      "cell_type": "code",
      "execution_count": null,
      "metadata": {
        "colab": {
          "base_uri": "https://localhost:8080/",
          "height": 36
        },
        "id": "JWYd5DU0fPUK",
        "outputId": "2ae935a1-9c69-4864-924b-3d1f57f65b03"
      },
      "outputs": [
        {
          "output_type": "execute_result",
          "data": {
            "text/plain": [
              "'1.77'"
            ],
            "application/vnd.google.colaboratory.intrinsic+json": {
              "type": "string"
            }
          },
          "metadata": {},
          "execution_count": 26
        }
      ],
      "source": [
        "(m.pi >> \n",
        " sqrt >> \n",
        " rnd(2) >> \n",
        " toStr)"
      ]
    },
    {
      "cell_type": "markdown",
      "metadata": {
        "id": "S_26eexVfPUK"
      },
      "source": [
        "## Hint 2: Put the pipes at the start of a line"
      ]
    },
    {
      "cell_type": "code",
      "execution_count": null,
      "metadata": {
        "colab": {
          "base_uri": "https://localhost:8080/",
          "height": 36
        },
        "id": "O_0elJXAfPUK",
        "outputId": "541f9637-fc9b-42c6-81bc-e31ce5a9d42b"
      },
      "outputs": [
        {
          "output_type": "execute_result",
          "data": {
            "text/plain": [
              "'1.77'"
            ],
            "application/vnd.google.colaboratory.intrinsic+json": {
              "type": "string"
            }
          },
          "metadata": {},
          "execution_count": 27
        }
      ],
      "source": [
        "(m.pi \n",
        " >> sqrt \n",
        " >> rnd(2) \n",
        " >> toStr\n",
        ")"
      ]
    },
    {
      "cell_type": "markdown",
      "metadata": {
        "id": "D9m2-_mHfPUK"
      },
      "source": [
        "## Pipeable functions return functions when partially complete\n",
        "\n",
        "Note that `pipeable` functions are curried, meaning they return functions if not provided with enough arguments."
      ]
    },
    {
      "cell_type": "code",
      "execution_count": null,
      "metadata": {
        "id": "DSSMcm3xfPUK"
      },
      "outputs": [],
      "source": [
        "threeArgs= pipeable(lambda a, b, c: f\"first:{a} second:{b} third:{c}\")"
      ]
    },
    {
      "cell_type": "code",
      "execution_count": null,
      "metadata": {
        "scrolled": true,
        "colab": {
          "base_uri": "https://localhost:8080/"
        },
        "id": "Nm2XuuvWfPUK",
        "outputId": "99aa615b-a387-47bd-deb0-a2c81e5b5ba8"
      },
      "outputs": [
        {
          "output_type": "execute_result",
          "data": {
            "text/plain": [
              "<function <lambda> at 0x7f16553db830>"
            ]
          },
          "metadata": {},
          "execution_count": 29
        }
      ],
      "source": [
        "threeArgs(\"Bob\")"
      ]
    },
    {
      "cell_type": "code",
      "execution_count": null,
      "metadata": {
        "scrolled": true,
        "colab": {
          "base_uri": "https://localhost:8080/"
        },
        "id": "iLDaj7UmfPUK",
        "outputId": "f0bff574-76bf-48ba-d0e1-6e3fae49a513"
      },
      "outputs": [
        {
          "output_type": "execute_result",
          "data": {
            "text/plain": [
              "<function <lambda> at 0x7f16553db830>"
            ]
          },
          "metadata": {},
          "execution_count": 30
        }
      ],
      "source": [
        "threeArgs(\"Bob\", \"Alice\")"
      ]
    },
    {
      "cell_type": "code",
      "source": [
        "threeArgs(\"Bob\", \"Alice\", \"Todd\")"
      ],
      "metadata": {
        "colab": {
          "base_uri": "https://localhost:8080/",
          "height": 36
        },
        "id": "SHBtRJ63jEx1",
        "outputId": "efffcef7-2b69-4c7f-dcd2-e3d774bafc05"
      },
      "execution_count": null,
      "outputs": [
        {
          "output_type": "execute_result",
          "data": {
            "text/plain": [
              "'first:Bob second:Alice third:Todd'"
            ],
            "application/vnd.google.colaboratory.intrinsic+json": {
              "type": "string"
            }
          },
          "metadata": {},
          "execution_count": 31
        }
      ]
    },
    {
      "cell_type": "markdown",
      "metadata": {
        "id": "7akHPOTUfPUL"
      },
      "source": [
        "## We can save and call a partial functions "
      ]
    },
    {
      "cell_type": "code",
      "execution_count": null,
      "metadata": {
        "id": "Ve0D9EOXfPUL"
      },
      "outputs": [],
      "source": [
        "bob = threeArgs(\"Bob\")"
      ]
    },
    {
      "cell_type": "code",
      "execution_count": null,
      "metadata": {
        "colab": {
          "base_uri": "https://localhost:8080/",
          "height": 36
        },
        "id": "y7MSTHTHfPUL",
        "outputId": "756a6a53-166f-42a2-ca8a-afe2e1583c3c"
      },
      "outputs": [
        {
          "output_type": "execute_result",
          "data": {
            "text/plain": [
              "'first:Bob second:2 third:3'"
            ],
            "application/vnd.google.colaboratory.intrinsic+json": {
              "type": "string"
            }
          },
          "metadata": {},
          "execution_count": 33
        }
      ],
      "source": [
        "bob(2,3)"
      ]
    },
    {
      "cell_type": "code",
      "execution_count": null,
      "metadata": {
        "id": "ngynPTqCfPUL"
      },
      "outputs": [],
      "source": [
        "bobAndAlice = bob(\"Alice\")"
      ]
    },
    {
      "cell_type": "code",
      "execution_count": null,
      "metadata": {
        "scrolled": true,
        "colab": {
          "base_uri": "https://localhost:8080/",
          "height": 36
        },
        "id": "udE7eycefPUL",
        "outputId": "e1fa8f23-4210-4287-ede5-e40ebe6c994e"
      },
      "outputs": [
        {
          "output_type": "execute_result",
          "data": {
            "text/plain": [
              "'first:Bob second:Alice third:3'"
            ],
            "application/vnd.google.colaboratory.intrinsic+json": {
              "type": "string"
            }
          },
          "metadata": {},
          "execution_count": 35
        }
      ],
      "source": [
        "bobAndAlice(3)"
      ]
    },
    {
      "cell_type": "code",
      "source": [
        "bobAndAliceAndTodd = bobAndAlice(\"Todd\")"
      ],
      "metadata": {
        "id": "5n9K3MuZjap1"
      },
      "execution_count": null,
      "outputs": []
    },
    {
      "cell_type": "code",
      "source": [
        "bobAndAliceAndTodd"
      ],
      "metadata": {
        "colab": {
          "base_uri": "https://localhost:8080/",
          "height": 36
        },
        "id": "8WI6kbAIjgeC",
        "outputId": "a6682253-1a8a-4450-cf1d-710cb8fdc3f7"
      },
      "execution_count": null,
      "outputs": [
        {
          "output_type": "execute_result",
          "data": {
            "text/plain": [
              "'first:Bob second:Alice third:Todd'"
            ],
            "application/vnd.google.colaboratory.intrinsic+json": {
              "type": "string"
            }
          },
          "metadata": {},
          "execution_count": 38
        }
      ]
    },
    {
      "cell_type": "markdown",
      "metadata": {
        "id": "wo0Q-E05fPUL"
      },
      "source": [
        "## Example\n",
        "\n",
        "Suppose that I round to two decimal places A LOT.  In this case it might be nice to have a specialized function"
      ]
    },
    {
      "cell_type": "code",
      "execution_count": null,
      "metadata": {
        "id": "Njum-du4fPUL"
      },
      "outputs": [],
      "source": [
        "rndToTwo = rnd(2)"
      ]
    },
    {
      "cell_type": "code",
      "execution_count": null,
      "metadata": {
        "colab": {
          "base_uri": "https://localhost:8080/"
        },
        "id": "u9I2AcAlfPUL",
        "outputId": "2acd8ae6-3610-4144-e892-9ad4dc2c7275"
      },
      "outputs": [
        {
          "output_type": "execute_result",
          "data": {
            "text/plain": [
              "3.14"
            ]
          },
          "metadata": {},
          "execution_count": 40
        }
      ],
      "source": [
        "m.pi >> rndToTwo"
      ]
    },
    {
      "cell_type": "markdown",
      "metadata": {
        "id": "k7PnMIUyfPUL"
      },
      "source": [
        "<font color=\"red\"><h1>Exercise 3</h1></font>\n",
        "\n",
        "Here is a problem that you solved in a previous activity:\n",
        "\n",
        "    The function `random` from the `random` module can be used to generate numbers between 0 and 1 at random. We want to return numbers between $a$ and $b$ at random, which can be accomplished using the formula $V = (b - a)*random() + a$.\n",
        "\n",
        "    Write a lambda function that takes `a` and `b` as arguments are returns a number between `a` and `b` at random.\n",
        "   \n",
        "Note that we can name the parts the process as follows:\n",
        "\n",
        "> b takeAway a >> times a random number >> subtract a\n",
        "\n",
        "Let's redo this problem, but this time with piping; where we will make a pipeable function to perform each task."
      ]
    },
    {
      "cell_type": "code",
      "source": [
        "from random import random"
      ],
      "metadata": {
        "id": "-BIFk-3YnK7N"
      },
      "execution_count": 1,
      "outputs": []
    },
    {
      "cell_type": "code",
      "execution_count": 8,
      "metadata": {
        "id": "OLr_HuSvfPUM"
      },
      "outputs": [],
      "source": [
        "takeAway = pipeable(lambda a, b: b - a)\n",
        "timesRandom = pipeable(lambda c: random()) \n",
        "add = pipeable(lambda x, y: x + y)"
      ]
    },
    {
      "cell_type": "code",
      "execution_count": 11,
      "metadata": {
        "id": "JGzK6leafPUM"
      },
      "outputs": [],
      "source": [
        "def uniform(a, b):\n",
        "    return ( b\n",
        "            >> takeAway(a)\n",
        "            >> timesRandom\n",
        "            >> add(a)\n",
        "            )"
      ]
    },
    {
      "cell_type": "code",
      "execution_count": 12,
      "metadata": {
        "id": "QLG7D9LLfPUM"
      },
      "outputs": [],
      "source": [
        "assert 1 <= uniform(1,2) <= 2"
      ]
    },
    {
      "cell_type": "code",
      "execution_count": null,
      "metadata": {
        "id": "OfdLTFekfPUM"
      },
      "outputs": [],
      "source": []
    }
  ],
  "metadata": {
    "kernelspec": {
      "display_name": "Python 3",
      "language": "python",
      "name": "python3"
    },
    "language_info": {
      "codemirror_mode": {
        "name": "ipython",
        "version": 3
      },
      "file_extension": ".py",
      "mimetype": "text/x-python",
      "name": "python",
      "nbconvert_exporter": "python",
      "pygments_lexer": "ipython3",
      "version": "3.7.2"
    },
    "colab": {
      "provenance": [],
      "include_colab_link": true
    }
  },
  "nbformat": 4,
  "nbformat_minor": 0
}